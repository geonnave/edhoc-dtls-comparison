{
 "cells": [
  {
   "cell_type": "code",
   "execution_count": 2,
   "id": "3e1bfe1d-2cc4-45ec-9cd3-6b25f0d1fdc6",
   "metadata": {},
   "outputs": [],
   "source": [
    "import pandas as pd\n",
    "import numpy as np\n",
    "import matplotlib.pyplot as plt"
   ]
  },
  {
   "cell_type": "code",
   "execution_count": 3,
   "id": "ba5080e6",
   "metadata": {},
   "outputs": [
    {
     "name": "stdout",
     "output_type": "stream",
     "text": [
      "   Timestamp     Value\n",
      "0    0.00000  0.007766\n",
      "1    0.00025  0.007765\n",
      "2    0.00050  0.007765\n",
      "3    0.00075  0.007764\n",
      "4    0.00100  0.007762\n",
      "   Timestamp     Value\n",
      "0    0.00000  0.025611\n",
      "1    0.00025  0.025611\n",
      "2    0.00050  0.025610\n",
      "3    0.00075  0.025607\n",
      "4    0.00100  0.025600\n",
      "   Timestamp  Value\n",
      "0      0.000      0\n",
      "1      9.262      1\n",
      "2      9.445      0\n",
      "3     12.285      1\n",
      "4     12.466      0\n"
     ]
    }
   ],
   "source": [
    "csv_files_otii = {\n",
    "    \"current\": \"Main current - Arc.csv\",\n",
    "    \"power\": \"Main power - Arc.csv\",\n",
    "    \"gpio\": \"GPI 1 - Arc.csv\",\n",
    "}\n",
    "\n",
    "results_dir = \"./results/edhoc-09aug-16h24-csv\"\n",
    "\n",
    "for source, csv_file in csv_files_otii.items():\n",
    "    filename = f\"{results_dir}/{csv_files_otii[source]}\"\n",
    "    df = pd.read_csv(filename)\n",
    "    print(df.head())"
   ]
  }
 ],
 "metadata": {
  "kernelspec": {
   "display_name": "Python 3 (ipykernel)",
   "language": "python",
   "name": "python3"
  },
  "language_info": {
   "codemirror_mode": {
    "name": "ipython",
    "version": 3
   },
   "file_extension": ".py",
   "mimetype": "text/x-python",
   "name": "python",
   "nbconvert_exporter": "python",
   "pygments_lexer": "ipython3",
   "version": "3.10.12"
  }
 },
 "nbformat": 4,
 "nbformat_minor": 5
}
